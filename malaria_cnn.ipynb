{
 "cells": [
  {
   "cell_type": "code",
   "execution_count": 1,
   "metadata": {},
   "outputs": [],
   "source": [
    "from tensorflow.keras.layers import Input,Lambda,Dense,Flatten,Conv2D\n",
    "from tensorflow.keras.models import Model\n",
    "from tensorflow.keras.applications.vgg19 import VGG19\n",
    "from tensorflow.keras.applications.resnet50 import preprocess_input\n",
    "from tensorflow.keras.preprocessing import image\n",
    "from tensorflow.keras.preprocessing.image import ImageDataGenerator,load_img\n",
    "from tensorflow.keras.models import Sequential\n",
    "import numpy as np\n",
    "from glob import glob\n",
    "import matplotlib.pyplot as plt"
   ]
  },
  {
   "cell_type": "code",
   "execution_count": 2,
   "metadata": {},
   "outputs": [
    {
     "name": "stdout",
     "output_type": "stream",
     "text": [
      "2.10.0\n"
     ]
    }
   ],
   "source": [
    "import tensorflow as tf\n",
    "print(tf.__version__)"
   ]
  },
  {
   "cell_type": "code",
   "execution_count": 3,
   "metadata": {},
   "outputs": [],
   "source": [
    "#resizing all images to this\n",
    "IMAGE_SIZE=[224,224]\n",
    "train_path='dataset/Train'\n",
    "valid_path='dataset/Test'\n"
   ]
  },
  {
   "cell_type": "code",
   "execution_count": 4,
   "metadata": {},
   "outputs": [],
   "source": [
    "mobilenet=VGG19(input_shape=IMAGE_SIZE+[3],weights='imagenet',include_top=False)\n",
    "# Import the Vgg 16 library as shown below and add preprocessing layer to the front of VGG\n",
    "# Here we will be using imagenet weights"
   ]
  },
  {
   "cell_type": "code",
   "execution_count": 5,
   "metadata": {},
   "outputs": [],
   "source": [
    "for layer in mobilenet.layers:\n",
    "    layer.trainable=False"
   ]
  },
  {
   "cell_type": "code",
   "execution_count": 6,
   "metadata": {},
   "outputs": [],
   "source": [
    "folders=glob('Dataset/Train/*')"
   ]
  },
  {
   "cell_type": "code",
   "execution_count": 7,
   "metadata": {},
   "outputs": [
    {
     "data": {
      "text/plain": [
       "['Dataset/Train\\\\Parasite', 'Dataset/Train\\\\Uninfected']"
      ]
     },
     "execution_count": 7,
     "metadata": {},
     "output_type": "execute_result"
    }
   ],
   "source": [
    "folders"
   ]
  },
  {
   "cell_type": "code",
   "execution_count": 8,
   "metadata": {},
   "outputs": [
    {
     "name": "stdout",
     "output_type": "stream",
     "text": [
      "Model: \"vgg19\"\n",
      "_________________________________________________________________\n",
      " Layer (type)                Output Shape              Param #   \n",
      "=================================================================\n",
      " input_1 (InputLayer)        [(None, 224, 224, 3)]     0         \n",
      "                                                                 \n",
      " block1_conv1 (Conv2D)       (None, 224, 224, 64)      1792      \n",
      "                                                                 \n",
      " block1_conv2 (Conv2D)       (None, 224, 224, 64)      36928     \n",
      "                                                                 \n",
      " block1_pool (MaxPooling2D)  (None, 112, 112, 64)      0         \n",
      "                                                                 \n",
      " block2_conv1 (Conv2D)       (None, 112, 112, 128)     73856     \n",
      "                                                                 \n",
      " block2_conv2 (Conv2D)       (None, 112, 112, 128)     147584    \n",
      "                                                                 \n",
      " block2_pool (MaxPooling2D)  (None, 56, 56, 128)       0         \n",
      "                                                                 \n",
      " block3_conv1 (Conv2D)       (None, 56, 56, 256)       295168    \n",
      "                                                                 \n",
      " block3_conv2 (Conv2D)       (None, 56, 56, 256)       590080    \n",
      "                                                                 \n",
      " block3_conv3 (Conv2D)       (None, 56, 56, 256)       590080    \n",
      "                                                                 \n",
      " block3_conv4 (Conv2D)       (None, 56, 56, 256)       590080    \n",
      "                                                                 \n",
      " block3_pool (MaxPooling2D)  (None, 28, 28, 256)       0         \n",
      "                                                                 \n",
      " block4_conv1 (Conv2D)       (None, 28, 28, 512)       1180160   \n",
      "                                                                 \n",
      " block4_conv2 (Conv2D)       (None, 28, 28, 512)       2359808   \n",
      "                                                                 \n",
      " block4_conv3 (Conv2D)       (None, 28, 28, 512)       2359808   \n",
      "                                                                 \n",
      " block4_conv4 (Conv2D)       (None, 28, 28, 512)       2359808   \n",
      "                                                                 \n",
      " block4_pool (MaxPooling2D)  (None, 14, 14, 512)       0         \n",
      "                                                                 \n",
      " block5_conv1 (Conv2D)       (None, 14, 14, 512)       2359808   \n",
      "                                                                 \n",
      " block5_conv2 (Conv2D)       (None, 14, 14, 512)       2359808   \n",
      "                                                                 \n",
      " block5_conv3 (Conv2D)       (None, 14, 14, 512)       2359808   \n",
      "                                                                 \n",
      " block5_conv4 (Conv2D)       (None, 14, 14, 512)       2359808   \n",
      "                                                                 \n",
      " block5_pool (MaxPooling2D)  (None, 7, 7, 512)         0         \n",
      "                                                                 \n",
      "=================================================================\n",
      "Total params: 20,024,384\n",
      "Trainable params: 0\n",
      "Non-trainable params: 20,024,384\n",
      "_________________________________________________________________\n"
     ]
    }
   ],
   "source": [
    "mobilenet.summary()"
   ]
  },
  {
   "cell_type": "code",
   "execution_count": 9,
   "metadata": {},
   "outputs": [],
   "source": [
    "x=Flatten()(mobilenet.output)"
   ]
  },
  {
   "cell_type": "code",
   "execution_count": 10,
   "metadata": {},
   "outputs": [],
   "source": [
    "prediction=Dense(len(folders),activation='softmax')(x)\n",
    "model=Model(inputs=mobilenet.input,outputs=prediction)"
   ]
  },
  {
   "cell_type": "code",
   "execution_count": 11,
   "metadata": {},
   "outputs": [
    {
     "name": "stdout",
     "output_type": "stream",
     "text": [
      "Model: \"model\"\n",
      "_________________________________________________________________\n",
      " Layer (type)                Output Shape              Param #   \n",
      "=================================================================\n",
      " input_1 (InputLayer)        [(None, 224, 224, 3)]     0         \n",
      "                                                                 \n",
      " block1_conv1 (Conv2D)       (None, 224, 224, 64)      1792      \n",
      "                                                                 \n",
      " block1_conv2 (Conv2D)       (None, 224, 224, 64)      36928     \n",
      "                                                                 \n",
      " block1_pool (MaxPooling2D)  (None, 112, 112, 64)      0         \n",
      "                                                                 \n",
      " block2_conv1 (Conv2D)       (None, 112, 112, 128)     73856     \n",
      "                                                                 \n",
      " block2_conv2 (Conv2D)       (None, 112, 112, 128)     147584    \n",
      "                                                                 \n",
      " block2_pool (MaxPooling2D)  (None, 56, 56, 128)       0         \n",
      "                                                                 \n",
      " block3_conv1 (Conv2D)       (None, 56, 56, 256)       295168    \n",
      "                                                                 \n",
      " block3_conv2 (Conv2D)       (None, 56, 56, 256)       590080    \n",
      "                                                                 \n",
      " block3_conv3 (Conv2D)       (None, 56, 56, 256)       590080    \n",
      "                                                                 \n",
      " block3_conv4 (Conv2D)       (None, 56, 56, 256)       590080    \n",
      "                                                                 \n",
      " block3_pool (MaxPooling2D)  (None, 28, 28, 256)       0         \n",
      "                                                                 \n",
      " block4_conv1 (Conv2D)       (None, 28, 28, 512)       1180160   \n",
      "                                                                 \n",
      " block4_conv2 (Conv2D)       (None, 28, 28, 512)       2359808   \n",
      "                                                                 \n",
      " block4_conv3 (Conv2D)       (None, 28, 28, 512)       2359808   \n",
      "                                                                 \n",
      " block4_conv4 (Conv2D)       (None, 28, 28, 512)       2359808   \n",
      "                                                                 \n",
      " block4_pool (MaxPooling2D)  (None, 14, 14, 512)       0         \n",
      "                                                                 \n",
      " block5_conv1 (Conv2D)       (None, 14, 14, 512)       2359808   \n",
      "                                                                 \n",
      " block5_conv2 (Conv2D)       (None, 14, 14, 512)       2359808   \n",
      "                                                                 \n",
      " block5_conv3 (Conv2D)       (None, 14, 14, 512)       2359808   \n",
      "                                                                 \n",
      " block5_conv4 (Conv2D)       (None, 14, 14, 512)       2359808   \n",
      "                                                                 \n",
      " block5_pool (MaxPooling2D)  (None, 7, 7, 512)         0         \n",
      "                                                                 \n",
      " flatten (Flatten)           (None, 25088)             0         \n",
      "                                                                 \n",
      " dense (Dense)               (None, 2)                 50178     \n",
      "                                                                 \n",
      "=================================================================\n",
      "Total params: 20,074,562\n",
      "Trainable params: 50,178\n",
      "Non-trainable params: 20,024,384\n",
      "_________________________________________________________________\n"
     ]
    }
   ],
   "source": [
    "model.summary()"
   ]
  },
  {
   "cell_type": "code",
   "execution_count": 12,
   "metadata": {},
   "outputs": [],
   "source": [
    "##the last two layers are just added"
   ]
  },
  {
   "cell_type": "code",
   "execution_count": 13,
   "metadata": {},
   "outputs": [],
   "source": [
    "from  tensorflow.keras.layers import MaxPooling2D"
   ]
  },
  {
   "cell_type": "code",
   "execution_count": 14,
   "metadata": {},
   "outputs": [],
   "source": [
    "#creating model from scratch"
   ]
  },
  {
   "cell_type": "code",
   "execution_count": 15,
   "metadata": {},
   "outputs": [],
   "source": [
    "model=Sequential()"
   ]
  },
  {
   "cell_type": "code",
   "execution_count": 16,
   "metadata": {},
   "outputs": [
    {
     "name": "stdout",
     "output_type": "stream",
     "text": [
      "Model: \"sequential\"\n",
      "_________________________________________________________________\n",
      " Layer (type)                Output Shape              Param #   \n",
      "=================================================================\n",
      " conv2d (Conv2D)             (None, 224, 224, 16)      208       \n",
      "                                                                 \n",
      " max_pooling2d (MaxPooling2D  (None, 112, 112, 16)     0         \n",
      " )                                                               \n",
      "                                                                 \n",
      " conv2d_1 (Conv2D)           (None, 112, 112, 32)      2080      \n",
      "                                                                 \n",
      " max_pooling2d_1 (MaxPooling  (None, 56, 56, 32)       0         \n",
      " 2D)                                                             \n",
      "                                                                 \n",
      " conv2d_2 (Conv2D)           (None, 56, 56, 64)        8256      \n",
      "                                                                 \n",
      " max_pooling2d_2 (MaxPooling  (None, 28, 28, 64)       0         \n",
      " 2D)                                                             \n",
      "                                                                 \n",
      " flatten_1 (Flatten)         (None, 50176)             0         \n",
      "                                                                 \n",
      " dense_1 (Dense)             (None, 500)               25088500  \n",
      "                                                                 \n",
      " dense_2 (Dense)             (None, 2)                 1002      \n",
      "                                                                 \n",
      "=================================================================\n",
      "Total params: 25,100,046\n",
      "Trainable params: 25,100,046\n",
      "Non-trainable params: 0\n",
      "_________________________________________________________________\n"
     ]
    }
   ],
   "source": [
    "#adding layers to the model\n",
    "model.add(Conv2D(filters=16,kernel_size=2,padding='Same',activation='relu',input_shape=(224,224,3)))\n",
    "model.add(MaxPooling2D(pool_size=2))\n",
    "model.add(Conv2D(filters=32,kernel_size=2,padding=\"same\",activation =\"relu\"))\n",
    "model.add(MaxPooling2D(pool_size=2))\n",
    "model.add(Conv2D(filters=64,kernel_size=2,padding=\"same\",activation=\"relu\"))\n",
    "model.add(MaxPooling2D(pool_size=2))\n",
    "model.add(Flatten())\n",
    "model.add(Dense(500,activation='relu'))\n",
    "model.add(Dense(2,activation='softmax'))\n",
    "model.summary()"
   ]
  },
  {
   "cell_type": "code",
   "execution_count": 17,
   "metadata": {},
   "outputs": [],
   "source": [
    "#tell the model cost function and optimization method"
   ]
  },
  {
   "cell_type": "code",
   "execution_count": 18,
   "metadata": {},
   "outputs": [],
   "source": [
    "model.compile(\n",
    "loss='categorical_crossentropy',\n",
    "optimizer='adam',\n",
    "metrics=['accuracy'])"
   ]
  },
  {
   "cell_type": "code",
   "execution_count": 19,
   "metadata": {},
   "outputs": [],
   "source": [
    "#we made the model. Now we need to import the dataset\n",
    "from tensorflow.keras.preprocessing.image import ImageDataGenerator\n",
    "trainDataGen=ImageDataGenerator(rescale=1./255,shear_range=0.2,zoom_range=0.2,horizontal_flip=True)\n",
    "testDataGen=ImageDataGenerator(rescale=1./255)"
   ]
  },
  {
   "cell_type": "code",
   "execution_count": 20,
   "metadata": {},
   "outputs": [
    {
     "name": "stdout",
     "output_type": "stream",
     "text": [
      "Found 416 images belonging to 2 classes.\n"
     ]
    }
   ],
   "source": [
    "training_set=trainDataGen.flow_from_directory('dataset/Train',target_size=(224,224),batch_size=32,class_mode='categorical')"
   ]
  },
  {
   "cell_type": "code",
   "execution_count": 21,
   "metadata": {},
   "outputs": [
    {
     "data": {
      "text/plain": [
       "<keras.preprocessing.image.DirectoryIterator at 0x1fd7d7cce50>"
      ]
     },
     "execution_count": 21,
     "metadata": {},
     "output_type": "execute_result"
    }
   ],
   "source": [
    "training_set"
   ]
  },
  {
   "cell_type": "code",
   "execution_count": 22,
   "metadata": {},
   "outputs": [
    {
     "name": "stdout",
     "output_type": "stream",
     "text": [
      "Found 134 images belonging to 2 classes.\n"
     ]
    }
   ],
   "source": [
    "test_set=testDataGen.flow_from_directory('dataset/Test',target_size=(224,224),batch_size=32,class_mode='categorical')"
   ]
  },
  {
   "cell_type": "code",
   "execution_count": 45,
   "metadata": {},
   "outputs": [
    {
     "name": "stderr",
     "output_type": "stream",
     "text": [
      "<ipython-input-45-43099efcc056>:1: UserWarning: `Model.fit_generator` is deprecated and will be removed in a future version. Please use `Model.fit`, which supports generators.\n",
      "  r=model.fit_generator(\n"
     ]
    },
    {
     "name": "stdout",
     "output_type": "stream",
     "text": [
      "Epoch 1/75\n",
      "13/13 [==============================] - 13s 890ms/step - loss: 0.0364 - accuracy: 0.9880 - val_loss: 0.4269 - val_accuracy: 0.9030\n",
      "Epoch 2/75\n",
      "13/13 [==============================] - 12s 891ms/step - loss: 0.0185 - accuracy: 0.9952 - val_loss: 0.4686 - val_accuracy: 0.8955\n",
      "Epoch 3/75\n",
      "13/13 [==============================] - 12s 879ms/step - loss: 0.0139 - accuracy: 0.9928 - val_loss: 0.2724 - val_accuracy: 0.9179\n",
      "Epoch 4/75\n",
      "13/13 [==============================] - 12s 916ms/step - loss: 0.0027 - accuracy: 1.0000 - val_loss: 0.3185 - val_accuracy: 0.9254\n",
      "Epoch 5/75\n",
      "13/13 [==============================] - 12s 885ms/step - loss: 0.0093 - accuracy: 0.9952 - val_loss: 0.3444 - val_accuracy: 0.9254\n",
      "Epoch 6/75\n",
      "13/13 [==============================] - 11s 850ms/step - loss: 0.0300 - accuracy: 0.9904 - val_loss: 0.4566 - val_accuracy: 0.8806\n",
      "Epoch 7/75\n",
      "13/13 [==============================] - 12s 939ms/step - loss: 0.0065 - accuracy: 1.0000 - val_loss: 0.1834 - val_accuracy: 0.9403\n",
      "Epoch 8/75\n",
      "13/13 [==============================] - 11s 817ms/step - loss: 0.0053 - accuracy: 0.9976 - val_loss: 0.2761 - val_accuracy: 0.9254\n",
      "Epoch 9/75\n",
      "13/13 [==============================] - 11s 836ms/step - loss: 0.0058 - accuracy: 0.9976 - val_loss: 0.2531 - val_accuracy: 0.9328\n",
      "Epoch 10/75\n",
      "13/13 [==============================] - 12s 947ms/step - loss: 0.0101 - accuracy: 0.9976 - val_loss: 0.2168 - val_accuracy: 0.9328\n",
      "Epoch 11/75\n",
      "13/13 [==============================] - 12s 871ms/step - loss: 0.0123 - accuracy: 0.9952 - val_loss: 0.1275 - val_accuracy: 0.9478\n",
      "Epoch 12/75\n",
      "13/13 [==============================] - 12s 899ms/step - loss: 0.0013 - accuracy: 1.0000 - val_loss: 0.1204 - val_accuracy: 0.9552\n",
      "Epoch 13/75\n",
      "13/13 [==============================] - 13s 964ms/step - loss: 0.0042 - accuracy: 1.0000 - val_loss: 0.1611 - val_accuracy: 0.9403\n",
      "Epoch 14/75\n",
      "13/13 [==============================] - 11s 843ms/step - loss: 0.0049 - accuracy: 0.9952 - val_loss: 0.2698 - val_accuracy: 0.9328\n",
      "Epoch 15/75\n",
      "13/13 [==============================] - 12s 920ms/step - loss: 0.0059 - accuracy: 0.9976 - val_loss: 0.2675 - val_accuracy: 0.9403\n",
      "Epoch 16/75\n",
      "13/13 [==============================] - 13s 959ms/step - loss: 0.0043 - accuracy: 0.9976 - val_loss: 0.1930 - val_accuracy: 0.9403\n",
      "Epoch 17/75\n",
      "13/13 [==============================] - 13s 977ms/step - loss: 0.0021 - accuracy: 1.0000 - val_loss: 0.1198 - val_accuracy: 0.9627\n",
      "Epoch 18/75\n",
      "13/13 [==============================] - 14s 1s/step - loss: 6.8717e-04 - accuracy: 1.0000 - val_loss: 0.1475 - val_accuracy: 0.9552\n",
      "Epoch 19/75\n",
      "13/13 [==============================] - 14s 1s/step - loss: 4.2724e-04 - accuracy: 1.0000 - val_loss: 0.1730 - val_accuracy: 0.9403\n",
      "Epoch 20/75\n",
      "13/13 [==============================] - 14s 1s/step - loss: 4.8749e-04 - accuracy: 1.0000 - val_loss: 0.1649 - val_accuracy: 0.9403\n",
      "Epoch 21/75\n",
      "13/13 [==============================] - 14s 1s/step - loss: 5.5807e-04 - accuracy: 1.0000 - val_loss: 0.1590 - val_accuracy: 0.9403\n",
      "Epoch 22/75\n",
      "13/13 [==============================] - 15s 1s/step - loss: 8.6293e-04 - accuracy: 1.0000 - val_loss: 0.2053 - val_accuracy: 0.9403\n",
      "Epoch 23/75\n",
      "13/13 [==============================] - 15s 1s/step - loss: 0.0022 - accuracy: 0.9976 - val_loss: 0.1776 - val_accuracy: 0.9478\n",
      "Epoch 24/75\n",
      "13/13 [==============================] - 15s 1s/step - loss: 0.0204 - accuracy: 0.9952 - val_loss: 1.4283 - val_accuracy: 0.7463\n",
      "Epoch 25/75\n",
      "13/13 [==============================] - 18s 1s/step - loss: 0.2141 - accuracy: 0.9303 - val_loss: 0.5753 - val_accuracy: 0.7537\n",
      "Epoch 26/75\n",
      "13/13 [==============================] - 17s 1s/step - loss: 0.1781 - accuracy: 0.9351 - val_loss: 0.2263 - val_accuracy: 0.8881\n",
      "Epoch 27/75\n",
      "13/13 [==============================] - 21s 2s/step - loss: 0.1140 - accuracy: 0.9567 - val_loss: 0.1765 - val_accuracy: 0.9254\n",
      "Epoch 28/75\n",
      "13/13 [==============================] - 17s 1s/step - loss: 0.0303 - accuracy: 0.9904 - val_loss: 0.2059 - val_accuracy: 0.9030\n",
      "Epoch 29/75\n",
      "13/13 [==============================] - 16s 1s/step - loss: 0.0426 - accuracy: 0.9880 - val_loss: 0.2298 - val_accuracy: 0.8955\n",
      "Epoch 30/75\n",
      "13/13 [==============================] - 14s 1s/step - loss: 0.0552 - accuracy: 0.9784 - val_loss: 0.4271 - val_accuracy: 0.8731\n",
      "Epoch 31/75\n",
      "13/13 [==============================] - 16s 1s/step - loss: 0.0287 - accuracy: 0.9904 - val_loss: 0.2297 - val_accuracy: 0.9179\n",
      "Epoch 32/75\n",
      "13/13 [==============================] - 17s 1s/step - loss: 0.0102 - accuracy: 0.9952 - val_loss: 0.2396 - val_accuracy: 0.9179\n",
      "Epoch 33/75\n",
      "13/13 [==============================] - 16s 1s/step - loss: 0.0067 - accuracy: 0.9976 - val_loss: 0.1486 - val_accuracy: 0.9403\n",
      "Epoch 34/75\n",
      "13/13 [==============================] - 14s 1s/step - loss: 0.0060 - accuracy: 1.0000 - val_loss: 0.2662 - val_accuracy: 0.9179\n",
      "Epoch 35/75\n",
      "13/13 [==============================] - 14s 1s/step - loss: 0.0029 - accuracy: 1.0000 - val_loss: 0.4616 - val_accuracy: 0.9030\n",
      "Epoch 36/75\n",
      "13/13 [==============================] - 15s 1s/step - loss: 0.0131 - accuracy: 0.9976 - val_loss: 0.2595 - val_accuracy: 0.9403\n",
      "Epoch 37/75\n",
      "13/13 [==============================] - 15s 1s/step - loss: 0.0070 - accuracy: 1.0000 - val_loss: 0.3710 - val_accuracy: 0.9030\n",
      "Epoch 38/75\n",
      "13/13 [==============================] - 15s 1s/step - loss: 0.0074 - accuracy: 0.9976 - val_loss: 0.2392 - val_accuracy: 0.9403\n",
      "Epoch 39/75\n",
      "13/13 [==============================] - 14s 1s/step - loss: 0.0054 - accuracy: 0.9976 - val_loss: 0.1923 - val_accuracy: 0.9328\n",
      "Epoch 40/75\n",
      "13/13 [==============================] - 14s 1s/step - loss: 0.0017 - accuracy: 1.0000 - val_loss: 0.2352 - val_accuracy: 0.9403\n",
      "Epoch 41/75\n",
      "13/13 [==============================] - 14s 1s/step - loss: 0.0051 - accuracy: 0.9976 - val_loss: 0.1924 - val_accuracy: 0.9328\n",
      "Epoch 42/75\n",
      "13/13 [==============================] - 13s 1s/step - loss: 0.0025 - accuracy: 1.0000 - val_loss: 0.1467 - val_accuracy: 0.9627\n",
      "Epoch 43/75\n",
      "13/13 [==============================] - 15s 1s/step - loss: 0.0011 - accuracy: 1.0000 - val_loss: 0.1808 - val_accuracy: 0.9552\n",
      "Epoch 44/75\n",
      "13/13 [==============================] - 16s 1s/step - loss: 0.0010 - accuracy: 1.0000 - val_loss: 0.1935 - val_accuracy: 0.9478\n",
      "Epoch 45/75\n",
      "13/13 [==============================] - 14s 1s/step - loss: 0.0011 - accuracy: 1.0000 - val_loss: 0.1594 - val_accuracy: 0.9552\n",
      "Epoch 46/75\n",
      "13/13 [==============================] - 15s 1s/step - loss: 5.1830e-04 - accuracy: 1.0000 - val_loss: 0.1812 - val_accuracy: 0.9478\n",
      "Epoch 47/75\n",
      "13/13 [==============================] - 15s 1s/step - loss: 7.6147e-04 - accuracy: 1.0000 - val_loss: 0.2014 - val_accuracy: 0.9478\n",
      "Epoch 48/75\n",
      "13/13 [==============================] - 13s 980ms/step - loss: 0.0033 - accuracy: 0.9976 - val_loss: 0.1806 - val_accuracy: 0.9552\n",
      "Epoch 49/75\n",
      "13/13 [==============================] - 13s 988ms/step - loss: 9.3132e-04 - accuracy: 1.0000 - val_loss: 0.1131 - val_accuracy: 0.9701\n",
      "Epoch 50/75\n",
      "13/13 [==============================] - 13s 978ms/step - loss: 0.0016 - accuracy: 1.0000 - val_loss: 0.1685 - val_accuracy: 0.9552\n",
      "Epoch 51/75\n",
      "13/13 [==============================] - 15s 1s/step - loss: 2.1382e-04 - accuracy: 1.0000 - val_loss: 0.2537 - val_accuracy: 0.9328\n",
      "Epoch 52/75\n",
      "13/13 [==============================] - 15s 1s/step - loss: 5.0032e-04 - accuracy: 1.0000 - val_loss: 0.2073 - val_accuracy: 0.9478\n",
      "Epoch 53/75\n",
      "13/13 [==============================] - 13s 978ms/step - loss: 0.0259 - accuracy: 0.9904 - val_loss: 0.5595 - val_accuracy: 0.8433\n",
      "Epoch 54/75\n",
      "13/13 [==============================] - 14s 1s/step - loss: 0.2922 - accuracy: 0.8966 - val_loss: 0.6863 - val_accuracy: 0.7239\n",
      "Epoch 55/75\n",
      "13/13 [==============================] - 14s 1s/step - loss: 0.1808 - accuracy: 0.9399 - val_loss: 0.5752 - val_accuracy: 0.8209\n",
      "Epoch 56/75\n",
      "13/13 [==============================] - 13s 958ms/step - loss: 0.1308 - accuracy: 0.9663 - val_loss: 0.4243 - val_accuracy: 0.8731\n",
      "Epoch 57/75\n",
      "13/13 [==============================] - 15s 1s/step - loss: 0.0544 - accuracy: 0.9784 - val_loss: 0.1995 - val_accuracy: 0.9328\n",
      "Epoch 58/75\n"
     ]
    },
    {
     "name": "stdout",
     "output_type": "stream",
     "text": [
      "13/13 [==============================] - 14s 1s/step - loss: 0.1357 - accuracy: 0.9688 - val_loss: 0.4270 - val_accuracy: 0.8657\n",
      "Epoch 59/75\n",
      "13/13 [==============================] - 14s 1s/step - loss: 0.0979 - accuracy: 0.9736 - val_loss: 0.2921 - val_accuracy: 0.9179\n",
      "Epoch 60/75\n",
      "13/13 [==============================] - 15s 1s/step - loss: 0.0285 - accuracy: 0.9880 - val_loss: 0.1831 - val_accuracy: 0.9328\n",
      "Epoch 61/75\n",
      "13/13 [==============================] - 14s 1s/step - loss: 0.1283 - accuracy: 0.9543 - val_loss: 0.4340 - val_accuracy: 0.8358\n",
      "Epoch 62/75\n",
      "13/13 [==============================] - 14s 1s/step - loss: 0.1764 - accuracy: 0.9375 - val_loss: 0.4174 - val_accuracy: 0.8358\n",
      "Epoch 63/75\n",
      "13/13 [==============================] - 13s 983ms/step - loss: 0.1597 - accuracy: 0.9399 - val_loss: 0.3000 - val_accuracy: 0.8582\n",
      "Epoch 64/75\n",
      "13/13 [==============================] - 16s 1s/step - loss: 0.1144 - accuracy: 0.9663 - val_loss: 0.1887 - val_accuracy: 0.9328\n",
      "Epoch 65/75\n",
      "13/13 [==============================] - 14s 1s/step - loss: 0.0288 - accuracy: 0.9976 - val_loss: 0.1719 - val_accuracy: 0.9403\n",
      "Epoch 66/75\n",
      "13/13 [==============================] - 14s 1s/step - loss: 0.0194 - accuracy: 0.9928 - val_loss: 0.3542 - val_accuracy: 0.9254\n",
      "Epoch 67/75\n",
      "13/13 [==============================] - 15s 1s/step - loss: 0.0237 - accuracy: 0.9928 - val_loss: 0.3063 - val_accuracy: 0.9254\n",
      "Epoch 68/75\n",
      "13/13 [==============================] - 13s 1s/step - loss: 0.0153 - accuracy: 0.9976 - val_loss: 0.2183 - val_accuracy: 0.9328\n",
      "Epoch 69/75\n",
      "13/13 [==============================] - 13s 1s/step - loss: 0.0131 - accuracy: 0.9976 - val_loss: 0.1301 - val_accuracy: 0.9403\n",
      "Epoch 70/75\n",
      "13/13 [==============================] - 16s 1s/step - loss: 0.0092 - accuracy: 0.9976 - val_loss: 0.1141 - val_accuracy: 0.9552\n",
      "Epoch 71/75\n",
      "13/13 [==============================] - 13s 999ms/step - loss: 0.0061 - accuracy: 0.9976 - val_loss: 0.2000 - val_accuracy: 0.9328\n",
      "Epoch 72/75\n",
      "13/13 [==============================] - 14s 1s/step - loss: 0.0037 - accuracy: 0.9976 - val_loss: 0.2395 - val_accuracy: 0.9328\n",
      "Epoch 73/75\n",
      "13/13 [==============================] - 13s 1s/step - loss: 0.0064 - accuracy: 0.9976 - val_loss: 0.1860 - val_accuracy: 0.9627\n",
      "Epoch 74/75\n",
      "13/13 [==============================] - 14s 1s/step - loss: 0.0024 - accuracy: 1.0000 - val_loss: 0.2027 - val_accuracy: 0.9552\n",
      "Epoch 75/75\n",
      "13/13 [==============================] - 15s 1s/step - loss: 0.0046 - accuracy: 0.9976 - val_loss: 0.1436 - val_accuracy: 0.9627\n"
     ]
    }
   ],
   "source": [
    "r=model.fit_generator(\n",
    "training_set,\n",
    "validation_data=test_set,\n",
    "epochs=75,\n",
    "steps_per_epoch=len(training_set),\n",
    "validation_steps=len(test_set))"
   ]
  },
  {
   "cell_type": "code",
   "execution_count": 46,
   "metadata": {},
   "outputs": [],
   "source": [
    "from tensorflow.keras.models import load_model"
   ]
  },
  {
   "cell_type": "code",
   "execution_count": 47,
   "metadata": {},
   "outputs": [],
   "source": [
    "model.save('model.h5')"
   ]
  },
  {
   "cell_type": "code",
   "execution_count": 48,
   "metadata": {},
   "outputs": [
    {
     "name": "stdout",
     "output_type": "stream",
     "text": [
      "5/5 [==============================] - 1s 178ms/step\n"
     ]
    }
   ],
   "source": [
    "y_pred=model.predict(test_set)"
   ]
  },
  {
   "cell_type": "code",
   "execution_count": 49,
   "metadata": {},
   "outputs": [
    {
     "data": {
      "text/plain": [
       "array([[2.20741138e-01, 7.79258847e-01],\n",
       "       [1.00000000e+00, 1.67563655e-38],\n",
       "       [1.00000000e+00, 5.56282849e-22],\n",
       "       [5.77511638e-02, 9.42248881e-01],\n",
       "       [2.90578237e-06, 9.99997139e-01],\n",
       "       [4.69208680e-06, 9.99995351e-01],\n",
       "       [7.67290112e-05, 9.99923229e-01],\n",
       "       [9.99993205e-01, 6.84348834e-06],\n",
       "       [2.78473258e-01, 7.21526682e-01],\n",
       "       [1.00000000e+00, 1.50156043e-09],\n",
       "       [9.98477757e-01, 1.52223604e-03],\n",
       "       [1.00000000e+00, 1.42019177e-15],\n",
       "       [9.97445822e-01, 2.55413563e-03],\n",
       "       [9.99948502e-01, 5.14750900e-05],\n",
       "       [9.99996662e-01, 3.28183114e-06],\n",
       "       [1.00000000e+00, 3.40754714e-14],\n",
       "       [1.00000000e+00, 7.30508675e-23],\n",
       "       [5.89379203e-03, 9.94106174e-01],\n",
       "       [1.00000000e+00, 6.82917307e-15],\n",
       "       [8.64562055e-04, 9.99135435e-01],\n",
       "       [1.13569818e-04, 9.99886394e-01],\n",
       "       [1.00000000e+00, 1.36003279e-18],\n",
       "       [1.64942653e-03, 9.98350620e-01],\n",
       "       [8.91110161e-04, 9.99108851e-01],\n",
       "       [1.96435372e-03, 9.98035610e-01],\n",
       "       [1.00000000e+00, 6.12383969e-26],\n",
       "       [1.00000000e+00, 3.53756267e-25],\n",
       "       [1.00000000e+00, 6.37540100e-16],\n",
       "       [1.00000000e+00, 2.85006224e-14],\n",
       "       [9.99999523e-01, 4.90748675e-07],\n",
       "       [1.00000000e+00, 1.71364007e-08],\n",
       "       [4.42834826e-05, 9.99955773e-01],\n",
       "       [1.00000000e+00, 5.22908261e-30],\n",
       "       [1.00000000e+00, 7.80348702e-12],\n",
       "       [1.00000000e+00, 2.63853607e-19],\n",
       "       [1.00000000e+00, 9.58852303e-11],\n",
       "       [1.00000000e+00, 2.20927551e-13],\n",
       "       [3.04458104e-03, 9.96955395e-01],\n",
       "       [6.24645400e-05, 9.99937534e-01],\n",
       "       [1.00000000e+00, 1.67946034e-19],\n",
       "       [2.28957273e-03, 9.97710466e-01],\n",
       "       [3.59223806e-04, 9.99640822e-01],\n",
       "       [9.99998927e-01, 1.10935900e-06],\n",
       "       [8.73766899e-01, 1.26233041e-01],\n",
       "       [1.00000000e+00, 2.35949628e-11],\n",
       "       [2.26083080e-06, 9.99997735e-01],\n",
       "       [1.15063100e-03, 9.98849392e-01],\n",
       "       [1.00000000e+00, 9.72592961e-15],\n",
       "       [1.00000000e+00, 1.09182345e-29],\n",
       "       [1.00000000e+00, 6.03027524e-12],\n",
       "       [9.99999881e-01, 6.71419613e-08],\n",
       "       [1.00000000e+00, 2.07346171e-11],\n",
       "       [1.00000000e+00, 2.71004909e-16],\n",
       "       [1.00000000e+00, 2.41354759e-19],\n",
       "       [1.00000000e+00, 2.30446444e-19],\n",
       "       [1.00000000e+00, 1.23083954e-12],\n",
       "       [1.00000000e+00, 2.10910091e-11],\n",
       "       [4.17049369e-03, 9.95829523e-01],\n",
       "       [1.00000000e+00, 0.00000000e+00],\n",
       "       [1.64494552e-02, 9.83550549e-01],\n",
       "       [6.49461988e-04, 9.99350488e-01],\n",
       "       [1.00000000e+00, 2.28524548e-22],\n",
       "       [3.64866167e-01, 6.35133803e-01],\n",
       "       [7.15498347e-04, 9.99284565e-01],\n",
       "       [2.87564378e-03, 9.97124374e-01],\n",
       "       [1.00000000e+00, 1.41025048e-11],\n",
       "       [1.00000000e+00, 2.24496688e-08],\n",
       "       [9.99999523e-01, 4.41250052e-07],\n",
       "       [9.99998808e-01, 1.25108249e-06],\n",
       "       [9.99988437e-01, 1.16195706e-05],\n",
       "       [1.00000000e+00, 1.14622897e-17],\n",
       "       [1.00000000e+00, 3.12691574e-11],\n",
       "       [1.00000000e+00, 8.78526364e-13],\n",
       "       [1.74425840e-02, 9.82557476e-01],\n",
       "       [1.00000000e+00, 0.00000000e+00],\n",
       "       [1.00000000e+00, 5.60390101e-19],\n",
       "       [1.00000000e+00, 7.13041351e-18],\n",
       "       [1.96607085e-03, 9.98033941e-01],\n",
       "       [1.00000000e+00, 3.82337246e-23],\n",
       "       [5.97687322e-04, 9.99402285e-01],\n",
       "       [1.00000000e+00, 5.52585965e-14],\n",
       "       [2.49757053e-04, 9.99750197e-01],\n",
       "       [1.15583134e-04, 9.99884367e-01],\n",
       "       [1.00000000e+00, 6.47098033e-17],\n",
       "       [9.64266434e-03, 9.90357339e-01],\n",
       "       [1.00000000e+00, 1.47890950e-13],\n",
       "       [2.09984519e-05, 9.99979019e-01],\n",
       "       [1.00000000e+00, 8.17447683e-38],\n",
       "       [1.00000000e+00, 1.66854405e-15],\n",
       "       [1.00000000e+00, 0.00000000e+00],\n",
       "       [1.64218247e-01, 8.35781753e-01],\n",
       "       [8.90264750e-01, 1.09735206e-01],\n",
       "       [1.00000000e+00, 1.47823651e-23],\n",
       "       [1.58549417e-04, 9.99841452e-01],\n",
       "       [1.00000000e+00, 1.13016317e-19],\n",
       "       [1.09241428e-05, 9.99989033e-01],\n",
       "       [9.97956991e-01, 2.04302534e-03],\n",
       "       [1.00000000e+00, 1.33742320e-15],\n",
       "       [1.00000000e+00, 2.96134756e-10],\n",
       "       [2.91080255e-06, 9.99997139e-01],\n",
       "       [1.00000000e+00, 4.33722621e-31],\n",
       "       [1.06269952e-04, 9.99893665e-01],\n",
       "       [1.65078047e-04, 9.99834895e-01],\n",
       "       [1.00000000e+00, 4.37758578e-38],\n",
       "       [4.93381231e-06, 9.99995112e-01],\n",
       "       [1.00000000e+00, 4.04765062e-14],\n",
       "       [1.36161044e-01, 8.63838971e-01],\n",
       "       [8.52294564e-01, 1.47705391e-01],\n",
       "       [1.00000000e+00, 2.20593644e-13],\n",
       "       [1.00000000e+00, 1.10228048e-12],\n",
       "       [1.28427392e-03, 9.98715758e-01],\n",
       "       [3.05754543e-06, 9.99996901e-01],\n",
       "       [1.78184686e-03, 9.98218119e-01],\n",
       "       [1.00000000e+00, 4.97881196e-13],\n",
       "       [1.00000000e+00, 1.76437731e-09],\n",
       "       [1.25550927e-04, 9.99874473e-01],\n",
       "       [1.00000000e+00, 5.96005450e-12],\n",
       "       [1.00000000e+00, 1.67658234e-16],\n",
       "       [1.00000000e+00, 9.94272481e-14],\n",
       "       [1.00000000e+00, 1.11435993e-15],\n",
       "       [1.00000000e+00, 0.00000000e+00],\n",
       "       [1.00000000e+00, 7.67060093e-31],\n",
       "       [1.00000000e+00, 1.12880386e-15],\n",
       "       [1.00000000e+00, 4.25805571e-11],\n",
       "       [1.00000000e+00, 2.46765094e-23],\n",
       "       [2.75408402e-05, 9.99972463e-01],\n",
       "       [1.00000000e+00, 1.81324575e-17],\n",
       "       [7.91599322e-03, 9.92084026e-01],\n",
       "       [1.89665705e-04, 9.99810398e-01],\n",
       "       [1.00000000e+00, 1.95221747e-12],\n",
       "       [7.89365359e-03, 9.92106318e-01],\n",
       "       [9.99954939e-01, 4.51162632e-05],\n",
       "       [1.00000000e+00, 7.26422264e-12],\n",
       "       [9.80927885e-01, 1.90721378e-02]], dtype=float32)"
      ]
     },
     "execution_count": 49,
     "metadata": {},
     "output_type": "execute_result"
    }
   ],
   "source": [
    "y_pred"
   ]
  },
  {
   "cell_type": "code",
   "execution_count": 50,
   "metadata": {},
   "outputs": [],
   "source": [
    "import numpy as np\n",
    "y_pred=np.argmax(y_pred,axis=1)"
   ]
  },
  {
   "cell_type": "code",
   "execution_count": 51,
   "metadata": {},
   "outputs": [
    {
     "data": {
      "text/plain": [
       "array([1, 0, 0, 1, 1, 1, 1, 0, 1, 0, 0, 0, 0, 0, 0, 0, 0, 1, 0, 1, 1, 0,\n",
       "       1, 1, 1, 0, 0, 0, 0, 0, 0, 1, 0, 0, 0, 0, 0, 1, 1, 0, 1, 1, 0, 0,\n",
       "       0, 1, 1, 0, 0, 0, 0, 0, 0, 0, 0, 0, 0, 1, 0, 1, 1, 0, 1, 1, 1, 0,\n",
       "       0, 0, 0, 0, 0, 0, 0, 1, 0, 0, 0, 1, 0, 1, 0, 1, 1, 0, 1, 0, 1, 0,\n",
       "       0, 0, 1, 0, 0, 1, 0, 1, 0, 0, 0, 1, 0, 1, 1, 0, 1, 0, 1, 0, 0, 0,\n",
       "       1, 1, 1, 0, 0, 1, 0, 0, 0, 0, 0, 0, 0, 0, 0, 1, 0, 1, 1, 0, 1, 0,\n",
       "       0, 0], dtype=int64)"
      ]
     },
     "execution_count": 51,
     "metadata": {},
     "output_type": "execute_result"
    }
   ],
   "source": [
    "y_pred"
   ]
  },
  {
   "cell_type": "code",
   "execution_count": 52,
   "metadata": {},
   "outputs": [],
   "source": [
    "from tensorflow.keras.models import load_model\n",
    "from tensorflow.keras.preprocessing import image"
   ]
  },
  {
   "cell_type": "code",
   "execution_count": 53,
   "metadata": {},
   "outputs": [],
   "source": [
    "model=load_model('model.h5')"
   ]
  },
  {
   "cell_type": "code",
   "execution_count": 54,
   "metadata": {},
   "outputs": [],
   "source": [
    "img=image.load_img('Dataset/Test/Parasite/14.png',target_size=(224,224))"
   ]
  },
  {
   "cell_type": "code",
   "execution_count": 55,
   "metadata": {},
   "outputs": [],
   "source": [
    "img=image.load_img('Dataset/Test/Uninfected/13.png',target_size=(224,224))"
   ]
  },
  {
   "cell_type": "code",
   "execution_count": 56,
   "metadata": {},
   "outputs": [],
   "source": [
    "x=image.img_to_array(img)"
   ]
  },
  {
   "cell_type": "code",
   "execution_count": 57,
   "metadata": {},
   "outputs": [
    {
     "data": {
      "text/plain": [
       "(224, 224, 3)"
      ]
     },
     "execution_count": 57,
     "metadata": {},
     "output_type": "execute_result"
    }
   ],
   "source": [
    "x.shape"
   ]
  },
  {
   "cell_type": "code",
   "execution_count": 58,
   "metadata": {},
   "outputs": [],
   "source": [
    "x=x/255"
   ]
  },
  {
   "cell_type": "code",
   "execution_count": 59,
   "metadata": {},
   "outputs": [
    {
     "data": {
      "text/plain": [
       "(224, 224, 3)"
      ]
     },
     "execution_count": 59,
     "metadata": {},
     "output_type": "execute_result"
    }
   ],
   "source": [
    "x.shape"
   ]
  },
  {
   "cell_type": "code",
   "execution_count": 60,
   "metadata": {},
   "outputs": [
    {
     "data": {
      "text/plain": [
       "array([[[0., 0., 0.],\n",
       "        [0., 0., 0.],\n",
       "        [0., 0., 0.],\n",
       "        ...,\n",
       "        [0., 0., 0.],\n",
       "        [0., 0., 0.],\n",
       "        [0., 0., 0.]],\n",
       "\n",
       "       [[0., 0., 0.],\n",
       "        [0., 0., 0.],\n",
       "        [0., 0., 0.],\n",
       "        ...,\n",
       "        [0., 0., 0.],\n",
       "        [0., 0., 0.],\n",
       "        [0., 0., 0.]],\n",
       "\n",
       "       [[0., 0., 0.],\n",
       "        [0., 0., 0.],\n",
       "        [0., 0., 0.],\n",
       "        ...,\n",
       "        [0., 0., 0.],\n",
       "        [0., 0., 0.],\n",
       "        [0., 0., 0.]],\n",
       "\n",
       "       ...,\n",
       "\n",
       "       [[0., 0., 0.],\n",
       "        [0., 0., 0.],\n",
       "        [0., 0., 0.],\n",
       "        ...,\n",
       "        [0., 0., 0.],\n",
       "        [0., 0., 0.],\n",
       "        [0., 0., 0.]],\n",
       "\n",
       "       [[0., 0., 0.],\n",
       "        [0., 0., 0.],\n",
       "        [0., 0., 0.],\n",
       "        ...,\n",
       "        [0., 0., 0.],\n",
       "        [0., 0., 0.],\n",
       "        [0., 0., 0.]],\n",
       "\n",
       "       [[0., 0., 0.],\n",
       "        [0., 0., 0.],\n",
       "        [0., 0., 0.],\n",
       "        ...,\n",
       "        [0., 0., 0.],\n",
       "        [0., 0., 0.],\n",
       "        [0., 0., 0.]]], dtype=float32)"
      ]
     },
     "execution_count": 60,
     "metadata": {},
     "output_type": "execute_result"
    }
   ],
   "source": [
    "x"
   ]
  },
  {
   "cell_type": "code",
   "execution_count": 61,
   "metadata": {},
   "outputs": [],
   "source": [
    "x=np.expand_dims(x,axis=0)\n",
    "img_data=preprocess_input(x)"
   ]
  },
  {
   "cell_type": "code",
   "execution_count": 62,
   "metadata": {},
   "outputs": [
    {
     "data": {
      "text/plain": [
       "(1, 224, 224, 3)"
      ]
     },
     "execution_count": 62,
     "metadata": {},
     "output_type": "execute_result"
    }
   ],
   "source": [
    "img_data.shape"
   ]
  },
  {
   "cell_type": "code",
   "execution_count": 63,
   "metadata": {},
   "outputs": [
    {
     "name": "stdout",
     "output_type": "stream",
     "text": [
      "1/1 [==============================] - 0s 288ms/step\n"
     ]
    }
   ],
   "source": [
    "a=np.argmax(model.predict(img_data),axis=1)"
   ]
  },
  {
   "cell_type": "code",
   "execution_count": 64,
   "metadata": {},
   "outputs": [
    {
     "name": "stdout",
     "output_type": "stream",
     "text": [
      "1/1 [==============================] - 0s 78ms/step\n"
     ]
    },
    {
     "data": {
      "text/plain": [
       "array([[1., 0.]], dtype=float32)"
      ]
     },
     "execution_count": 64,
     "metadata": {},
     "output_type": "execute_result"
    }
   ],
   "source": [
    "model.predict(img_data)"
   ]
  },
  {
   "cell_type": "code",
   "execution_count": 65,
   "metadata": {},
   "outputs": [
    {
     "name": "stdout",
     "output_type": "stream",
     "text": [
      "Infected\n"
     ]
    }
   ],
   "source": [
    "if a==1:\n",
    "    print(\"Uninfected\")\n",
    "else:\n",
    "    print(\"Infected\")"
   ]
  },
  {
   "cell_type": "code",
   "execution_count": 66,
   "metadata": {},
   "outputs": [
    {
     "data": {
      "image/png": "[encoded data removed]",
      "text/plain": [
       "<Figure size 432x288 with 1 Axes>"
      ]
     },
     "metadata": {
      "needs_background": "light"
     },
     "output_type": "display_data"
    },
    {
     "data": {
      "image/png": "[encoded data removed]",
      "text/plain": [
       "<Figure size 432x288 with 1 Axes>"
      ]
     },
     "metadata": {
      "needs_background": "light"
     },
     "output_type": "display_data"
    },
    {
     "data": {
      "text/plain": [
       "<Figure size 432x288 with 0 Axes>"
      ]
     },
     "metadata": {},
     "output_type": "display_data"
    }
   ],
   "source": [
    "plt.plot(r.history['loss'], label='train loss')\n",
    "plt.plot(r.history['val_loss'], label='val loss')\n",
    "plt.legend()\n",
    "plt.show()\n",
    "plt.savefig('LossVal_loss')\n",
    "\n",
    "# plot the accuracy\n",
    "plt.plot(r.history['accuracy'], label='train acc')\n",
    "plt.plot(r.history['val_accuracy'], label='val acc')\n",
    "plt.legend()\n",
    "plt.show()\n",
    "plt.savefig('AccVal_acc')\n"
   ]
  }
 ],
 "metadata": {
  "kernelspec": {
   "display_name": "Python 3",
   "language": "python",
   "name": "python3"
  },
  "language_info": {
   "codemirror_mode": {
    "name": "ipython",
    "version": 3
   },
   "file_extension": ".py",
   "mimetype": "text/x-python",
   "name": "python",
   "nbconvert_exporter": "python",
   "pygments_lexer": "ipython3",
   "version": "3.8.5"
  }
 },
 "nbformat": 4,
 "nbformat_minor": 4
}
